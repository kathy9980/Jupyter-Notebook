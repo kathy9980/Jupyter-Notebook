{
 "cells": [
  {
   "cell_type": "markdown",
   "metadata": {},
   "source": [
    "## Jupyter Note自学笔记1：如何插入图片"
   ]
  },
  {
   "cell_type": "markdown",
   "metadata": {},
   "source": [
    "### 方法1：Markdown 语法格式"
   ]
  },
  {
   "cell_type": "markdown",
   "metadata": {
    "slideshow": {
     "slide_type": "-"
    }
   },
   "source": [
    "格式为 `![图片名](图片链接)`  （也可以使用菜单栏的\"Edit>Insert Image\"插入）"
   ]
  },
  {
   "cell_type": "markdown",
   "metadata": {
    "slideshow": {
     "slide_type": "-"
    }
   },
   "source": [
    "P.S.图片链接可以用[新浪微博图床](https://chrome.google.com/webstore/detail/%E6%96%B0%E6%B5%AA%E5%BE%AE%E5%8D%9A%E5%9B%BE%E5%BA%8A/fdfdnfpdplfbbnemmmoklbfjbhecpnhf)一键生成）  "
   ]
  },
  {
   "cell_type": "markdown",
   "metadata": {
    "slideshow": {
     "slide_type": "-"
    }
   },
   "source": [
    "缺点：图片大小、位置无法调整"
   ]
  },
  {
   "cell_type": "markdown",
   "metadata": {},
   "source": [
    "Example:  \n",
    "`![Golden Gate Brige](http://ww1.sinaimg.cn/large/005XtsRely1fw0hy4jy7kj32yo1o0x6p.jpg)`"
   ]
  },
  {
   "cell_type": "markdown",
   "metadata": {},
   "source": [
    "![Golden Gate Brige](http://ww1.sinaimg.cn/large/005XtsRely1fw0hy4jy7kj32yo1o0x6p.jpg)"
   ]
  },
  {
   "cell_type": "markdown",
   "metadata": {},
   "source": [
    "### 方法2: html 语法格式"
   ]
  },
  {
   "cell_type": "markdown",
   "metadata": {
    "raw_mimetype": "text/markdown",
    "slideshow": {
     "slide_type": "-"
    }
   },
   "source": [
    "格式为 `<img src=\"图片链接\" width=\"50%\" height=\"50%\" />`"
   ]
  },
  {
   "attachments": {},
   "cell_type": "markdown",
   "metadata": {},
   "source": [
    "Example:  \n",
    "`<img src=\"http://ww1.sinaimg.cn/large/005XtsRely1fw0hy4jy7kj32yo1o0x6p.jpg\" width=\"50%\" height=\"50%\" />`"
   ]
  },
  {
   "attachments": {},
   "cell_type": "markdown",
   "metadata": {},
   "source": [
    "<img src=\"http://ww1.sinaimg.cn/large/005XtsRely1fw0hy4jy7kj32yo1o0x6p.jpg\" width=\"50%\" height=\"50%\" />"
   ]
  },
  {
   "cell_type": "markdown",
   "metadata": {},
   "source": [
    "**方法2进阶版**  （添加图注、更改对齐方式等）"
   ]
  },
  {
   "cell_type": "markdown",
   "metadata": {},
   "source": [
    "Example:  \n",
    "`<center>\n",
    "<img src=\"http://ww1.sinaimg.cn/large/005XtsRely1fw0hy4jy7kj32yo1o0x6p.jpg\" width=\"50%\" height=\"50%\" />   \n",
    "Figure1. Golden Gate Brige\n",
    "</center>`"
   ]
  },
  {
   "cell_type": "markdown",
   "metadata": {},
   "source": [
    "OR  \n",
    "`<div align=\"center\">\n",
    "<img src=\"http://ww1.sinaimg.cn/large/005XtsRely1fw0hy4jy7kj32yo1o0x6p.jpg\" width=\"50%\" height=\"50%\" />   \n",
    "Figure1. Golden Gate Brige\n",
    "</div>`"
   ]
  },
  {
   "cell_type": "markdown",
   "metadata": {},
   "source": [
    "<div align=\"center\">\n",
    "<img src=\"http://ww1.sinaimg.cn/large/005XtsRely1fw0hy4jy7kj32yo1o0x6p.jpg\" width=\"50%\" height=\"50%\" />   \n",
    "Figure1. Golden Gate Brige\n",
    "</div>"
   ]
  },
  {
   "cell_type": "markdown",
   "metadata": {},
   "source": [
    "总结：  \n",
    "1. 插入图片可以说是非常基本的操作之一了，但是对于之前没有接触过Markdown（轻量级标记语言）的小伙伴来说可能不太容易。\n",
    "2. 速成的方法虽然多，不过一切都是“熟能生巧”，坚持记录可以节省许多浪费在搜索**重复问题**的时间。  \n",
    "从[Jupyter Notebook](http://jupyter.org/)（The Jupyter Notebook is an open-source web application that allows you to create and share documents that contain live code, equations, visualizations and narrative text.）这个免费又好用的应用入手绝对值得，特别是安装Anacoda后一键拥有JN，一边用Python3一边写技术文档；  \n",
    "3. 更加感谢博主们的分享精神 - 从前都是阅读大神们的博客，自己写下第1篇博客才发现这是一件需要**内在驱动力**的事情。好的笔记不仅**逻辑清晰**、**举例生动**，还需要**必要但不啰嗦**的描述性语言。"
   ]
  },
  {
   "cell_type": "markdown",
   "metadata": {},
   "source": [
    "参考：  \n",
    "- [Xinet-Collection/图片的操作.ipynb](https://nbviewer.jupyter.org/github/Papers-Collection/Xinet-Collection/blob/master/%E5%9B%BE%E7%89%87%E7%9A%84%E6%93%8D%E4%BD%9C.ipynb) \n",
    "- [Jay Zhang's Blog/Markdown](http://www.jeyzhang.com/categories/Markdown/)\n",
    "- [Jupyter Notebook](http://jupyter.org/)"
   ]
  },
  {
   "cell_type": "markdown",
   "metadata": {},
   "source": [
    "\n",
    "*K.S.* 10/07/2018\n"
   ]
  }
 ],
 "metadata": {
  "celltoolbar": "Raw Cell Format",
  "kernelspec": {
   "display_name": "Python 3",
   "language": "python",
   "name": "python3"
  },
  "language_info": {
   "codemirror_mode": {
    "name": "ipython",
    "version": 3
   },
   "file_extension": ".py",
   "mimetype": "text/x-python",
   "name": "python",
   "nbconvert_exporter": "python",
   "pygments_lexer": "ipython3",
   "version": "3.6.4"
  }
 },
 "nbformat": 4,
 "nbformat_minor": 2
}
